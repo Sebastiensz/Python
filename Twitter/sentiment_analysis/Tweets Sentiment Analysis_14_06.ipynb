{
 "cells": [
  {
   "cell_type": "markdown",
   "metadata": {},
   "source": [
    "# Extraire les Tweets de Twitter (sans l'API)"
   ]
  },
  {
   "cell_type": "code",
   "execution_count": null,
   "metadata": {},
   "outputs": [],
   "source": [
    "!pip install -U jupyter"
   ]
  },
  {
   "cell_type": "code",
   "execution_count": null,
   "metadata": {},
   "outputs": [],
   "source": [
    "!pip --version"
   ]
  },
  {
   "cell_type": "code",
   "execution_count": null,
   "metadata": {},
   "outputs": [],
   "source": [
    "!pip install notebook --upgrade"
   ]
  },
  {
   "cell_type": "code",
   "execution_count": null,
   "metadata": {},
   "outputs": [],
   "source": [
    "! pip install install libxslt"
   ]
  },
  {
   "cell_type": "code",
   "execution_count": null,
   "metadata": {},
   "outputs": [],
   "source": [
    "!pip list o"
   ]
  },
  {
   "cell_type": "code",
   "execution_count": null,
   "metadata": {},
   "outputs": [],
   "source": [
    "!pip install git+https://github.com/JustAnotherArchivist/snscrape.git"
   ]
  },
  {
   "cell_type": "code",
   "execution_count": null,
   "metadata": {},
   "outputs": [],
   "source": [
    " from platform import python_version\n",
    "python_version()"
   ]
  },
  {
   "cell_type": "code",
   "execution_count": null,
   "metadata": {},
   "outputs": [],
   "source": [
    "!pip3 install libxslt "
   ]
  },
  {
   "cell_type": "code",
   "execution_count": null,
   "metadata": {},
   "outputs": [],
   "source": [
    "import os\n",
    "\n",
    "os. getcwd()"
   ]
  },
  {
   "cell_type": "code",
   "execution_count": null,
   "metadata": {},
   "outputs": [],
   "source": [
    "git --version"
   ]
  },
  {
   "cell_type": "code",
   "execution_count": null,
   "metadata": {},
   "outputs": [],
   "source": [
    "!pip install notebook --upgrade"
   ]
  },
  {
   "cell_type": "code",
   "execution_count": 5,
   "metadata": {},
   "outputs": [],
   "source": [
    "import snscrape.modules.twitter as sntwitter #package pour lire twitter sans passer par l'API\n",
    "import pandas as pd #package pour dataframe pandas"
   ]
  },
  {
   "cell_type": "code",
   "execution_count": 7,
   "metadata": {},
   "outputs": [],
   "source": [
    "#query=\"google lang:en until:2022-01-05 since:2020-01-01\"\n",
    "#query=\"arkema lang:fr until:2022-05-18 since:2020-01-01\" #query twitter pour laquelle on va récupérer les tweets\n",
    "query=\"lactalis lang:fr until:2022-06-07 since:2012-01-01\"\n",
    "tweets=[] #tableau des tweets qu'on va ajouter\n",
    "limits=500000 #limite de tweets"
   ]
  },
  {
   "cell_type": "code",
   "execution_count": 8,
   "metadata": {},
   "outputs": [
    {
     "name": "stderr",
     "output_type": "stream",
     "text": [
      "C:\\Users\\User\\AppData\\Local\\Temp\\ipykernel_11624\\2050770126.py:6: FutureWarning: username is deprecated, use user.username instead\n",
      "  tweets.append([tweet.date,tweet.username,tweet.user.followersCount,tweet.content,tweet.likeCount,tweet.retweetCount,tweet.replyCount,tweet.quoteCount])\n"
     ]
    }
   ],
   "source": [
    "#exécution et stockage dans le tableau de la requête twitter\n",
    "for tweet in sntwitter.TwitterSearchScraper(query).get_items():\n",
    "    if len(tweets)==limits:\n",
    "        break\n",
    "    else:\n",
    "        tweets.append([tweet.date,tweet.username,tweet.user.followersCount,tweet.content,tweet.likeCount,tweet.retweetCount,tweet.replyCount,tweet.quoteCount])"
   ]
  },
  {
   "cell_type": "code",
   "execution_count": 9,
   "metadata": {},
   "outputs": [
    {
     "data": {
      "text/plain": [
       "datetime.datetime(2012, 1, 2, 7, 55, 55, tzinfo=datetime.timezone.utc)"
      ]
     },
     "execution_count": 9,
     "metadata": {},
     "output_type": "execute_result"
    }
   ],
   "source": [
    "tweet.date"
   ]
  },
  {
   "cell_type": "code",
   "execution_count": 10,
   "metadata": {},
   "outputs": [
    {
     "data": {
      "text/plain": [
       "User(username='melanelo', id=109386464, displayname='Mélanie Domece', description='Fan de #Food, #innovation, #Créativité, #design, #trends... à la recherche perpétuelle de signaux faibles.', rawDescription='Fan de #Food, #innovation, #Créativité, #design, #trends... à la recherche perpétuelle de signaux faibles.', descriptionLinks=None, verified=False, created=datetime.datetime(2010, 1, 28, 22, 2, 6, tzinfo=datetime.timezone.utc), followersCount=599, friendsCount=637, statusesCount=13400, favouritesCount=890, listedCount=143, mediaCount=405, location='FRANCE', protected=False, link=None, profileImageUrl='https://pbs.twimg.com/profile_images/772380898268438528/eRs25Zsn_normal.jpg', profileBannerUrl='https://pbs.twimg.com/profile_banners/109386464/1460499702', label=None)"
      ]
     },
     "execution_count": 10,
     "metadata": {},
     "output_type": "execute_result"
    }
   ],
   "source": [
    "tweet.user"
   ]
  },
  {
   "cell_type": "code",
   "execution_count": 11,
   "metadata": {
    "scrolled": true
   },
   "outputs": [
    {
     "data": {
      "text/html": [
       "<div>\n",
       "<style scoped>\n",
       "    .dataframe tbody tr th:only-of-type {\n",
       "        vertical-align: middle;\n",
       "    }\n",
       "\n",
       "    .dataframe tbody tr th {\n",
       "        vertical-align: top;\n",
       "    }\n",
       "\n",
       "    .dataframe thead th {\n",
       "        text-align: right;\n",
       "    }\n",
       "</style>\n",
       "<table border=\"1\" class=\"dataframe\">\n",
       "  <thead>\n",
       "    <tr style=\"text-align: right;\">\n",
       "      <th></th>\n",
       "      <th>Date</th>\n",
       "      <th>User</th>\n",
       "      <th>Nbr followers</th>\n",
       "      <th>Tweet</th>\n",
       "      <th>Likes</th>\n",
       "      <th>Nbr Retweet</th>\n",
       "      <th>Nbr réponses</th>\n",
       "      <th>Nbr Citations</th>\n",
       "    </tr>\n",
       "  </thead>\n",
       "  <tbody>\n",
       "    <tr>\n",
       "      <th>0</th>\n",
       "      <td>2022-06-06 16:10:15+00:00</td>\n",
       "      <td>domdelagr</td>\n",
       "      <td>211</td>\n",
       "      <td>@FndzFernandez @Lili2corne @Mamantosaure @Oniz...</td>\n",
       "      <td>1</td>\n",
       "      <td>0</td>\n",
       "      <td>1</td>\n",
       "      <td>0</td>\n",
       "    </tr>\n",
       "    <tr>\n",
       "      <th>1</th>\n",
       "      <td>2022-06-06 15:53:55+00:00</td>\n",
       "      <td>domdelagr</td>\n",
       "      <td>211</td>\n",
       "      <td>@furgi1 @madammadomadi @RMauriac @MyriamHebute...</td>\n",
       "      <td>0</td>\n",
       "      <td>0</td>\n",
       "      <td>0</td>\n",
       "      <td>0</td>\n",
       "    </tr>\n",
       "    <tr>\n",
       "      <th>2</th>\n",
       "      <td>2022-06-06 13:03:17+00:00</td>\n",
       "      <td>DiploMix</td>\n",
       "      <td>9127</td>\n",
       "      <td>#APPRENDmix #WiKi #économie et #entreprises en...</td>\n",
       "      <td>0</td>\n",
       "      <td>0</td>\n",
       "      <td>0</td>\n",
       "      <td>0</td>\n",
       "    </tr>\n",
       "    <tr>\n",
       "      <th>3</th>\n",
       "      <td>2022-06-06 05:25:39+00:00</td>\n",
       "      <td>CedricGarnier68</td>\n",
       "      <td>714</td>\n",
       "      <td>RSE - Lactalis présente sa feuille de route\\n3...</td>\n",
       "      <td>0</td>\n",
       "      <td>0</td>\n",
       "      <td>0</td>\n",
       "      <td>0</td>\n",
       "    </tr>\n",
       "    <tr>\n",
       "      <th>4</th>\n",
       "      <td>2022-06-06 04:23:07+00:00</td>\n",
       "      <td>Emirats_fr</td>\n",
       "      <td>1064</td>\n",
       "      <td>V.I.E Contrôleur de Gestion Commercial (H/F) L...</td>\n",
       "      <td>0</td>\n",
       "      <td>0</td>\n",
       "      <td>0</td>\n",
       "      <td>0</td>\n",
       "    </tr>\n",
       "    <tr>\n",
       "      <th>...</th>\n",
       "      <td>...</td>\n",
       "      <td>...</td>\n",
       "      <td>...</td>\n",
       "      <td>...</td>\n",
       "      <td>...</td>\n",
       "      <td>...</td>\n",
       "      <td>...</td>\n",
       "      <td>...</td>\n",
       "    </tr>\n",
       "    <tr>\n",
       "      <th>90980</th>\n",
       "      <td>2012-01-05 08:39:42+00:00</td>\n",
       "      <td>fanJobs</td>\n",
       "      <td>139</td>\n",
       "      <td>Stage chez Groupe Lactalis - Stagiaire Planifi...</td>\n",
       "      <td>0</td>\n",
       "      <td>0</td>\n",
       "      <td>0</td>\n",
       "      <td>0</td>\n",
       "    </tr>\n",
       "    <tr>\n",
       "      <th>90981</th>\n",
       "      <td>2012-01-03 09:49:29+00:00</td>\n",
       "      <td>magnumlaradio</td>\n",
       "      <td>4039</td>\n",
       "      <td>Comité d'entreprise chez Lactalis, avant la dé...</td>\n",
       "      <td>0</td>\n",
       "      <td>0</td>\n",
       "      <td>0</td>\n",
       "      <td>0</td>\n",
       "    </tr>\n",
       "    <tr>\n",
       "      <th>90982</th>\n",
       "      <td>2012-01-02 15:45:36+00:00</td>\n",
       "      <td>Vienne_Rurale</td>\n",
       "      <td>1000</td>\n",
       "      <td>Reprise de contact entre les producteurs et La...</td>\n",
       "      <td>0</td>\n",
       "      <td>0</td>\n",
       "      <td>0</td>\n",
       "      <td>0</td>\n",
       "    </tr>\n",
       "    <tr>\n",
       "      <th>90983</th>\n",
       "      <td>2012-01-02 12:43:25+00:00</td>\n",
       "      <td>laval_economie</td>\n",
       "      <td>2289</td>\n",
       "      <td>#Laval, #Lactalis écrème la concurrence http:/...</td>\n",
       "      <td>0</td>\n",
       "      <td>0</td>\n",
       "      <td>0</td>\n",
       "      <td>0</td>\n",
       "    </tr>\n",
       "    <tr>\n",
       "      <th>90984</th>\n",
       "      <td>2012-01-02 07:55:55+00:00</td>\n",
       "      <td>melanelo</td>\n",
       "      <td>599</td>\n",
       "      <td>Lactalis écrème la concurrence http://t.co/TIP...</td>\n",
       "      <td>0</td>\n",
       "      <td>0</td>\n",
       "      <td>0</td>\n",
       "      <td>0</td>\n",
       "    </tr>\n",
       "  </tbody>\n",
       "</table>\n",
       "<p>90985 rows × 8 columns</p>\n",
       "</div>"
      ],
      "text/plain": [
       "                           Date             User  Nbr followers  \\\n",
       "0     2022-06-06 16:10:15+00:00        domdelagr            211   \n",
       "1     2022-06-06 15:53:55+00:00        domdelagr            211   \n",
       "2     2022-06-06 13:03:17+00:00         DiploMix           9127   \n",
       "3     2022-06-06 05:25:39+00:00  CedricGarnier68            714   \n",
       "4     2022-06-06 04:23:07+00:00       Emirats_fr           1064   \n",
       "...                         ...              ...            ...   \n",
       "90980 2012-01-05 08:39:42+00:00          fanJobs            139   \n",
       "90981 2012-01-03 09:49:29+00:00    magnumlaradio           4039   \n",
       "90982 2012-01-02 15:45:36+00:00    Vienne_Rurale           1000   \n",
       "90983 2012-01-02 12:43:25+00:00   laval_economie           2289   \n",
       "90984 2012-01-02 07:55:55+00:00         melanelo            599   \n",
       "\n",
       "                                                   Tweet  Likes  Nbr Retweet  \\\n",
       "0      @FndzFernandez @Lili2corne @Mamantosaure @Oniz...      1            0   \n",
       "1      @furgi1 @madammadomadi @RMauriac @MyriamHebute...      0            0   \n",
       "2      #APPRENDmix #WiKi #économie et #entreprises en...      0            0   \n",
       "3      RSE - Lactalis présente sa feuille de route\\n3...      0            0   \n",
       "4      V.I.E Contrôleur de Gestion Commercial (H/F) L...      0            0   \n",
       "...                                                  ...    ...          ...   \n",
       "90980  Stage chez Groupe Lactalis - Stagiaire Planifi...      0            0   \n",
       "90981  Comité d'entreprise chez Lactalis, avant la dé...      0            0   \n",
       "90982  Reprise de contact entre les producteurs et La...      0            0   \n",
       "90983  #Laval, #Lactalis écrème la concurrence http:/...      0            0   \n",
       "90984  Lactalis écrème la concurrence http://t.co/TIP...      0            0   \n",
       "\n",
       "       Nbr réponses  Nbr Citations  \n",
       "0                 1              0  \n",
       "1                 0              0  \n",
       "2                 0              0  \n",
       "3                 0              0  \n",
       "4                 0              0  \n",
       "...             ...            ...  \n",
       "90980             0              0  \n",
       "90981             0              0  \n",
       "90982             0              0  \n",
       "90983             0              0  \n",
       "90984             0              0  \n",
       "\n",
       "[90985 rows x 8 columns]"
      ]
     },
     "execution_count": 11,
     "metadata": {},
     "output_type": "execute_result"
    }
   ],
   "source": [
    "#conversion en dataframe\n",
    "df2=pd.DataFrame(tweets,columns=['Date','User','Nbr followers','Tweet','Likes','Nbr Retweet','Nbr réponses','Nbr Citations'])\n",
    "df2"
   ]
  },
  {
   "cell_type": "markdown",
   "metadata": {},
   "source": [
    "# Analyse de sentiment sur ces Tweets"
   ]
  },
  {
   "cell_type": "code",
   "execution_count": 13,
   "metadata": {},
   "outputs": [
    {
     "name": "stdout",
     "output_type": "stream",
     "text": [
      "Collecting torch\n",
      "  Downloading torch-1.11.0-cp39-cp39-win_amd64.whl (157.9 MB)\n",
      "Requirement already satisfied: typing-extensions in c:\\users\\user\\anaconda3\\lib\\site-packages (from torch) (4.1.1)\n",
      "Installing collected packages: torch\n",
      "Successfully installed torch-1.11.0\n"
     ]
    }
   ],
   "source": [
    "!pip install torch"
   ]
  },
  {
   "cell_type": "code",
   "execution_count": 18,
   "metadata": {},
   "outputs": [
    {
     "name": "stdout",
     "output_type": "stream",
     "text": [
      "Collecting pytorch\n",
      "  Using cached pytorch-1.0.2.tar.gz (689 bytes)\n",
      "Building wheels for collected packages: pytorch\n",
      "  Building wheel for pytorch (setup.py): started\n",
      "  Building wheel for pytorch (setup.py): finished with status 'error'\n",
      "  Running setup.py clean for pytorch\n",
      "Failed to build pytorch\n",
      "Installing collected packages: pytorch\n",
      "    Running setup.py install for pytorch: started\n",
      "    Running setup.py install for pytorch: finished with status 'error'\n"
     ]
    },
    {
     "name": "stderr",
     "output_type": "stream",
     "text": [
      "  ERROR: Command errored out with exit status 1:\n",
      "   command: 'C:\\Users\\User\\anaconda3\\python.exe' -u -c 'import io, os, sys, setuptools, tokenize; sys.argv[0] = '\"'\"'C:\\\\Users\\\\User\\\\AppData\\\\Local\\\\Temp\\\\pip-install-y8wbbbu_\\\\pytorch_68d04298604e4b38aaf7397a551be9b6\\\\setup.py'\"'\"'; __file__='\"'\"'C:\\\\Users\\\\User\\\\AppData\\\\Local\\\\Temp\\\\pip-install-y8wbbbu_\\\\pytorch_68d04298604e4b38aaf7397a551be9b6\\\\setup.py'\"'\"';f = getattr(tokenize, '\"'\"'open'\"'\"', open)(__file__) if os.path.exists(__file__) else io.StringIO('\"'\"'from setuptools import setup; setup()'\"'\"');code = f.read().replace('\"'\"'\\r\\n'\"'\"', '\"'\"'\\n'\"'\"');f.close();exec(compile(code, __file__, '\"'\"'exec'\"'\"'))' bdist_wheel -d 'C:\\Users\\User\\AppData\\Local\\Temp\\pip-wheel-g34siokg'\n",
      "       cwd: C:\\Users\\User\\AppData\\Local\\Temp\\pip-install-y8wbbbu_\\pytorch_68d04298604e4b38aaf7397a551be9b6\\\n",
      "  Complete output (5 lines):\n",
      "  Traceback (most recent call last):\n",
      "    File \"<string>\", line 1, in <module>\n",
      "    File \"C:\\Users\\User\\AppData\\Local\\Temp\\pip-install-y8wbbbu_\\pytorch_68d04298604e4b38aaf7397a551be9b6\\setup.py\", line 15, in <module>\n",
      "      raise Exception(message)\n",
      "  Exception: You tried to install \"pytorch\". The package named for PyTorch is \"torch\"\n",
      "  ----------------------------------------\n",
      "  ERROR: Failed building wheel for pytorch\n",
      "    ERROR: Command errored out with exit status 1:\n",
      "     command: 'C:\\Users\\User\\anaconda3\\python.exe' -u -c 'import io, os, sys, setuptools, tokenize; sys.argv[0] = '\"'\"'C:\\\\Users\\\\User\\\\AppData\\\\Local\\\\Temp\\\\pip-install-y8wbbbu_\\\\pytorch_68d04298604e4b38aaf7397a551be9b6\\\\setup.py'\"'\"'; __file__='\"'\"'C:\\\\Users\\\\User\\\\AppData\\\\Local\\\\Temp\\\\pip-install-y8wbbbu_\\\\pytorch_68d04298604e4b38aaf7397a551be9b6\\\\setup.py'\"'\"';f = getattr(tokenize, '\"'\"'open'\"'\"', open)(__file__) if os.path.exists(__file__) else io.StringIO('\"'\"'from setuptools import setup; setup()'\"'\"');code = f.read().replace('\"'\"'\\r\\n'\"'\"', '\"'\"'\\n'\"'\"');f.close();exec(compile(code, __file__, '\"'\"'exec'\"'\"'))' install --record 'C:\\Users\\User\\AppData\\Local\\Temp\\pip-record-q91urg2m\\install-record.txt' --single-version-externally-managed --compile --install-headers 'C:\\Users\\User\\anaconda3\\Include\\pytorch'\n",
      "         cwd: C:\\Users\\User\\AppData\\Local\\Temp\\pip-install-y8wbbbu_\\pytorch_68d04298604e4b38aaf7397a551be9b6\\\n",
      "    Complete output (5 lines):\n",
      "    Traceback (most recent call last):\n",
      "      File \"<string>\", line 1, in <module>\n",
      "      File \"C:\\Users\\User\\AppData\\Local\\Temp\\pip-install-y8wbbbu_\\pytorch_68d04298604e4b38aaf7397a551be9b6\\setup.py\", line 11, in <module>\n",
      "        raise Exception(message)\n",
      "    Exception: You tried to install \"pytorch\". The package named for PyTorch is \"torch\"\n",
      "    ----------------------------------------\n",
      "ERROR: Command errored out with exit status 1: 'C:\\Users\\User\\anaconda3\\python.exe' -u -c 'import io, os, sys, setuptools, tokenize; sys.argv[0] = '\"'\"'C:\\\\Users\\\\User\\\\AppData\\\\Local\\\\Temp\\\\pip-install-y8wbbbu_\\\\pytorch_68d04298604e4b38aaf7397a551be9b6\\\\setup.py'\"'\"'; __file__='\"'\"'C:\\\\Users\\\\User\\\\AppData\\\\Local\\\\Temp\\\\pip-install-y8wbbbu_\\\\pytorch_68d04298604e4b38aaf7397a551be9b6\\\\setup.py'\"'\"';f = getattr(tokenize, '\"'\"'open'\"'\"', open)(__file__) if os.path.exists(__file__) else io.StringIO('\"'\"'from setuptools import setup; setup()'\"'\"');code = f.read().replace('\"'\"'\\r\\n'\"'\"', '\"'\"'\\n'\"'\"');f.close();exec(compile(code, __file__, '\"'\"'exec'\"'\"'))' install --record 'C:\\Users\\User\\AppData\\Local\\Temp\\pip-record-q91urg2m\\install-record.txt' --single-version-externally-managed --compile --install-headers 'C:\\Users\\User\\anaconda3\\Include\\pytorch' Check the logs for full command output.\n"
     ]
    }
   ],
   "source": [
    "!pip install pytorch"
   ]
  },
  {
   "cell_type": "code",
   "execution_count": 1,
   "metadata": {},
   "outputs": [],
   "source": [
    "#chargement des librairies IA pour l'analyse de sentiments\n",
    "\n",
    "from transformers import AutoTokenizer, AutoModelForSequenceClassification\n",
    "import torch\n",
    "import requests\n",
    "from bs4 import BeautifulSoup\n",
    "import re"
   ]
  },
  {
   "cell_type": "code",
   "execution_count": 23,
   "metadata": {},
   "outputs": [],
   "source": [
    "from transformers import AutoModelForSequenceClassification"
   ]
  },
  {
   "cell_type": "code",
   "execution_count": 24,
   "metadata": {},
   "outputs": [],
   "source": [
    "from transformers import AutoTokenizer"
   ]
  },
  {
   "cell_type": "code",
   "execution_count": 2,
   "metadata": {},
   "outputs": [],
   "source": [
    "#initialisation du modèle\n",
    "tokenizer = AutoTokenizer.from_pretrained('nlptown/bert-base-multilingual-uncased-sentiment')"
   ]
  },
  {
   "cell_type": "code",
   "execution_count": 3,
   "metadata": {},
   "outputs": [
    {
     "data": {
      "application/vnd.jupyter.widget-view+json": {
       "model_id": "742eaba4793d4d938977215d714b4d96",
       "version_major": 2,
       "version_minor": 0
      },
      "text/plain": [
       "Downloading:   0%|          | 0.00/638M [00:00<?, ?B/s]"
      ]
     },
     "metadata": {},
     "output_type": "display_data"
    }
   ],
   "source": [
    "model = AutoModelForSequenceClassification.from_pretrained('nlptown/bert-base-multilingual-uncased-sentiment')"
   ]
  },
  {
   "cell_type": "code",
   "execution_count": 20,
   "metadata": {},
   "outputs": [
    {
     "data": {
      "text/plain": [
       "False"
      ]
     },
     "execution_count": 20,
     "metadata": {},
     "output_type": "execute_result"
    }
   ],
   "source": [
    "import torch\n",
    "torch.cuda.is_available()"
   ]
  },
  {
   "cell_type": "code",
   "execution_count": 12,
   "metadata": {},
   "outputs": [
    {
     "name": "stdout",
     "output_type": "stream",
     "text": [
      "SequenceClassifierOutput(loss=None, logits=tensor([[-2.7768, -1.2353,  1.4419,  1.9804,  0.4584]],\n",
      "       grad_fn=<AddmmBackward0>), hidden_states=None, attentions=None)\n"
     ]
    }
   ],
   "source": [
    "#test rapide\n",
    "#\n",
    "tokens = tokenizer.encode('It was good but couldve been better. Great', return_tensors='pt')\n",
    "result = model(tokens)\n",
    "print(result)"
   ]
  },
  {
   "cell_type": "code",
   "execution_count": 13,
   "metadata": {},
   "outputs": [],
   "source": [
    "#définition de la fonction évaluant le sentiment du tweet, 1 étant le minimum et 5 le maximum\n",
    "\n",
    "def sentiment_score(review):\n",
    "    tokens = tokenizer.encode(review, return_tensors='pt')\n",
    "    result = model(tokens)\n",
    "    return int(torch.argmax(result[0]))+1"
   ]
  },
  {
   "cell_type": "code",
   "execution_count": null,
   "metadata": {},
   "outputs": [],
   "source": [
    "df2['sentiment'] = df2['Tweet'].apply(lambda x: sentiment_score(x[:512]))\n",
    "df2"
   ]
  },
  {
   "cell_type": "code",
   "execution_count": null,
   "metadata": {},
   "outputs": [],
   "source": [
    "#df2.sort_values(by=['Date'])"
   ]
  },
  {
   "cell_type": "code",
   "execution_count": null,
   "metadata": {},
   "outputs": [],
   "source": [
    "import matplotlib.pyplot as plt\n",
    "  \n",
    "# x axis values\n",
    "x = df2['Date']\n",
    "\n",
    "\n",
    "#Calcul de la moyenne journalière\n",
    "i=0\n",
    "moyenne_journaliere_liste=[]\n",
    "while i<len(df2):\n",
    "    total_note_journaliere=df2[i]\n",
    "    j=0\n",
    "    while df2['Date'][i+j].year ==df2['Date'][i+1+j].year and df2['Date'][i+j].month ==df2['Date'][i+1+j].month and df2['Date'][i+j].day ==df2['Date'][i+1+j].day:\n",
    "        total_note_journaliere=total_note_journaliere+df2[i+1]\n",
    "        j=j+1\n",
    "    moyenne_journaliere=total_note_journaliere/(i+1)\n",
    "    moyenne_journaliere_liste.append(moyenne_journaliere)\n",
    "    i=i+1+j\n",
    "# corresponding y axis values\n",
    "y = df2['sentiment']\n",
    "  \n",
    "# plotting the points \n",
    "plt.plot(x, y)\n",
    "  \n",
    "# naming the x axis\n",
    "plt.xlabel('Date')\n",
    "# naming the y axis\n",
    "plt.ylabel('Sentiment')\n",
    "  \n",
    "# giving a title to my graph\n",
    "plt.title('My first graph!')\n",
    "  \n",
    "# function to show the plot\n",
    "plt.show()"
   ]
  },
  {
   "cell_type": "code",
   "execution_count": null,
   "metadata": {},
   "outputs": [],
   "source": [
    "if df2['Date'][i].year ==df2['Date'][i+1].year and df2['Date'][i].month ==df2['Date'][i+1].month and df2['Date'][i].day ==df2['Date'][i+1].day:\n",
    "    print('lol')\n",
    "else:\n",
    "    print('faux')"
   ]
  },
  {
   "cell_type": "code",
   "execution_count": null,
   "metadata": {},
   "outputs": [],
   "source": [
    "df2['date'] = pd.to_datetime(df2['Date'],format='%Y%m%d')\n",
    "df2"
   ]
  },
  {
   "cell_type": "code",
   "execution_count": null,
   "metadata": {},
   "outputs": [],
   "source": [
    "df2['Date'][0].day"
   ]
  },
  {
   "cell_type": "code",
   "execution_count": null,
   "metadata": {},
   "outputs": [],
   "source": [
    "#exemple : quelle ligne regarder ?\n",
    "i=0\n",
    "print(df2['Tweet'].iloc[i])\n",
    "print(df2['sentiment'].iloc[i])"
   ]
  },
  {
   "cell_type": "code",
   "execution_count": null,
   "metadata": {},
   "outputs": [],
   "source": [
    "i=0\n",
    "sentiment=0\n",
    "while i<90928:\n",
    "    sentiment=sentiment+df2['sentiment'].iloc[i]\n",
    "    i=i+1\n",
    "sentiment_moyenne=sentiment/90928"
   ]
  },
  {
   "cell_type": "code",
   "execution_count": null,
   "metadata": {},
   "outputs": [],
   "source": [
    "sentiment_moyenne"
   ]
  },
  {
   "cell_type": "code",
   "execution_count": null,
   "metadata": {},
   "outputs": [],
   "source": []
  },
  {
   "cell_type": "markdown",
   "metadata": {},
   "source": [
    "# Export des résultats"
   ]
  },
  {
   "cell_type": "code",
   "execution_count": null,
   "metadata": {},
   "outputs": [],
   "source": [
    "from pathlib import Path  \n",
    "filepath = Path('./tweets_sentiment_analysis.csv')  \n",
    "filepath.parent.mkdir(parents=True, exist_ok=True)  \n",
    "df2.to_csv(filepath)"
   ]
  },
  {
   "cell_type": "code",
   "execution_count": null,
   "metadata": {},
   "outputs": [],
   "source": [
    "import os\n",
    "os.getcwd()"
   ]
  },
  {
   "cell_type": "code",
   "execution_count": null,
   "metadata": {},
   "outputs": [],
   "source": [
    "pwd"
   ]
  },
  {
   "cell_type": "code",
   "execution_count": null,
   "metadata": {},
   "outputs": [],
   "source": []
  }
 ],
 "metadata": {
  "kernelspec": {
   "display_name": "Python 3",
   "language": "python",
   "name": "python3"
  },
  "language_info": {
   "codemirror_mode": {
    "name": "ipython",
    "version": 3
   },
   "file_extension": ".py",
   "mimetype": "text/x-python",
   "name": "python",
   "nbconvert_exporter": "python",
   "pygments_lexer": "ipython3",
   "version": "3.7.10"
  }
 },
 "nbformat": 4,
 "nbformat_minor": 4
}
